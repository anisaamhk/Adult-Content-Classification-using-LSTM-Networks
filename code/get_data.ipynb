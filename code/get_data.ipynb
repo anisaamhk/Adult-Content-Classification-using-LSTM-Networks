{
 "cells": [
  {
   "cell_type": "code",
   "execution_count": 1,
   "metadata": {},
   "outputs": [],
   "source": [
    "import pandas as pd\n",
    "import tweepy\n",
    "from tweepy import *\n",
    "import xlsxwriter\n",
    "from twython import Twython\n",
    "import re\n",
    "import glob"
   ]
  },
  {
   "cell_type": "code",
   "execution_count": 2,
   "metadata": {},
   "outputs": [],
   "source": [
    "consumer_key = '1oKHjM1jyXDpwjmi1dmNNTdGG'\n",
    "consumer_secret = 'Lfut6ggL4ibZ0bDc6xfYUM9ukG3c4AaqQx2Si4gmlw81x281cr'\n",
    "access_token = '1083321617193656320-zD97aTouOelYBc0UrClQTALEIn5Du0'\n",
    "access_token_secret = 'ztXY4bZSz02Bsjd48JA6GQWmmJtKTCvENA5JyySGNEnjA'"
   ]
  },
  {
   "cell_type": "code",
   "execution_count": 3,
   "metadata": {},
   "outputs": [],
   "source": [
    "# Authorization to consumer key and consumer secret \n",
    "auth = OAuthHandler(consumer_key, consumer_secret) \n",
    "\n",
    "# Access to user's access key and access secret \n",
    "auth.set_access_token(access_token, access_token_secret) \n",
    "\n",
    "# Calling api \n",
    "api = tweepy.API(auth, wait_on_rate_limit=True)\n",
    "\n",
    "# Twitter\n",
    "twitter = Twython(consumer_key, consumer_secret, access_token, access_token_secret)"
   ]
  },
  {
   "cell_type": "code",
   "execution_count": 4,
   "metadata": {},
   "outputs": [],
   "source": [
    "def get_tweets_by_keyword(listOfTweets, keyword, numOfTweets):\n",
    "    # Iterate through all tweets containing the given word, api search mode\n",
    "    for tweet in tweepy.Cursor(api.search, lang = \"id\", q=keyword+\" -filter:retweets\", tweet_mode=\"extended\").items(numOfTweets):\n",
    "        t = tweet.full_text\n",
    "        listOfTweets.append(t)   \n",
    "    return listOfTweets\n",
    "\n",
    "def get_tweets_by_account(listOfTweets, keyword, numOfTweets):\n",
    "    user_timeline = twitter.get_user_timeline(screen_name=keyword, count = numOfTweets, tweet_mode = \"extended\")   \n",
    "    for tweet in user_timeline:\n",
    "        t = tweet['full_text']\n",
    "        listOfTweets.append(t)       \n",
    "    return listOfTweets\n",
    "\n",
    "# # Pelabelan data tweet (pelabelan dilakukan berdasarkan kata porno)\n",
    "# BUKAN_DEWASA = 0 \n",
    "# DEWASA = 1\n",
    "# ADULT = r\"((\\b(s|S)(undal|UNDAL))|(\\b(b|B)(inal|INAL))|(\\b(m|M)(asturbasi|ASTURBASI))|(\\b(b|B)(ugil|UGIL))|(\\b(P|p)(orno|ORNO))|(\\b(S|s)(ange|ANGE))|(\\b(b|B)(irahi|IRAHI))|(\\b(m|M)(emek|EMEK))|(\\b(t|T)(oke|OKE)(t|T|D|d))|(\\b(b|B)(ahenol|AHENOL))|(\\b(t|T)(elanjang|ELANJANG))|(\\b(p|P)(enis|ENIS))|(\\b(v|V)(agina|AGINA))|(\\b(c|C)(iuman|IUMAN))|(\\b(b|B)(okep|OKEP))|(\\b(c|C)(abul|ABUL))|(\\b(m|M)(esum|ESUM))|(\\b(t|T)(etek|ETEK))|(\\b(e|E)(reksi|REKSI))|(\\b(e|E)(jakulasi|JAKULASI))|(\\b(o|O)(nani|NANI))|(\\b(s|S)(emok|EMOK))|(\\b(m|M)(ontok|ONTOK))|(\\b(p|P)(antat|ANTAT))|(\\b(k|K)(emaluan|EMALUAN))|(\\b(s|S)(enggama|ENGGAMA))|(\\b(c|C)(oli|OLI))|(\\b(k|K)(entu|ENTU))|(\\b(k|K)(intil|INTIL))|(\\b(j|J)(embut|EMBUT))|(\\b(s|S|se|SE)(pong|PONG))|(\\b(l|L)(aso|ASO))|(\\b(p|P)(epek|EPEK))|(\\b(l|L)(onte|ONTE))|(\\b(\" \"|k|K)(ontol|ONTOL))|((s|S)(eks|EKS|ex|EX)(\" \"|i|I))|((ng|Ng|\" \")((e|E)(nto|NTO)(t|T|D|d)|(e|E)(we|WE))))\"\n",
    "# def labels(tweet_text):\n",
    "#     return DEWASA if re.search(ADULT, tweet_text) else BUKAN_DEWASA"
   ]
  },
  {
   "cell_type": "code",
   "execution_count": 6,
   "metadata": {},
   "outputs": [],
   "source": [
    "# Data tweet berdasarkan akun twitter\n",
    "akun = []\n",
    "acc = ['@MNCkoranSINDO', '@hariankompas', '@korantempo', '@republikaonline', '@asumsico',\n",
    "       '@cnnIndonesia', '@tempodotco', '@liputan6dotcom', '@BBCIndonesia', '@tribunnews',\n",
    "       '@KompasTV', '@tvOneNews', '@kompasiana', '@detikcom', '@detikHealth', \n",
    "       '@detiksport', '@detikfood', '@JogjaUpdate', '@Jogja24Jam', '@ILCtvone', \n",
    "       '@MahfudMD', \"@KPK_RI\", '@tribunjogja', '@jogjamedia', '@jiemiardian', \n",
    "       '@ivanlanin', '@Membetulkan', '@Greschinov', '@hilmanspace', '@billydolmen', \n",
    "       '@GiaPratamaMD', '@ustadzsyafiq', '@bmkgjogja', '@TirtoID', '@Sutopo_PN',\n",
    "       '@PSSI', '@zeniuseducation', '@VICE_ID', '@mediaindonesia', '@GNFI',\n",
    "       '@rockygerung', '@NajwaShihab', '@MataNajwa', '@sudjiwotedjo', '@AndiArief__',\n",
    "       '@FaldoMaldini', '@Gamal_Albinsaid', '@budimandjatmiko', '@novelbaswedan',\n",
    "       '@deelestari' , '@RahayuSaraswati', '@TwitterID', '@BriliAgung', '@KampusUpdate',\n",
    "       '@blogdokter', '@drtiwi', '@kitabisacom', '@FiersaBesari', '@andihiyat',\n",
    "       '@catwomanizer', '@ZoyaAmirin', '@sophia_hage' '@seterahdeh', '@bayu_joo', \n",
    "       '@BudeSumiyati', '@mememekanlirik', '@jek__', '@TretanMuslim', '@pardedereza', \n",
    "       '@pandji']\n",
    "\n",
    "for i in acc:\n",
    "    konten_biasa = get_tweets_by_account(akun, i, 275)"
   ]
  },
  {
   "cell_type": "code",
   "execution_count": 8,
   "metadata": {},
   "outputs": [],
   "source": [
    "# Data tweet berdasarkan kata kunci (kata porno)\n",
    "kata_kunci = []\n",
    "keyword = ['najwa', '...']\n",
    "\n",
    "for kd in keyword:\n",
    "    konten_dewasa = get_tweets_by_keyword(kata_kunci, kd, 275)"
   ]
  },
  {
   "cell_type": "code",
   "execution_count": 11,
   "metadata": {},
   "outputs": [
    {
     "name": "stderr",
     "output_type": "stream",
     "text": [
      "C:\\Users\\ANNISA\\Anaconda3\\lib\\site-packages\\xlsxwriter\\worksheet.py:832: UserWarning: Ignoring URL 'https://t.co/PeOPz4qLDP%20sebuah%20perusahaan%20Ed%20Tech%20berfokus%20pada%20pendidikan%20&amp;%20tes%20bahasa%20Inggris%20online%20sedang%20membuka%20kesempatan%20magang%20bagi%20para%20mahasiswa%20di%20Yogyakarta.\n",
      "Benefit:\n",
      "☑%20uang%20makan,%20transport%20\n",
      "☑%20surat%20ket%20magang%20\n",
      "Selengkapnya%20di%20https://t.co/KIJSKmWEWe%20https://t.co/5Gt07tPIPS' with link or location/anchor > 255 characters since it exceeds Excel's limit for URLS\n",
      "  force_unicode(url))\n",
      "C:\\Users\\ANNISA\\Anaconda3\\lib\\site-packages\\xlsxwriter\\worksheet.py:832: UserWarning: Ignoring URL 'https://t.co/IiGhd1NzwB\n",
      "cerita%20remaja%20ML%20dengan%20tante%20sexy\n",
      "Cerita%20seks%20–%20Pagi%20ini%20aku%20sedang%20merapikan%20pakaianku%20guna%20dimasukkan%20ke%20dalam%20koper.%20Ayahku%20menyimak%20dengan%20wajah%20sedih%20sebab%20aku%20satu-satunya%20anak%20lelakinya%20mesti%20pergi%20demi%20meraih%20masa%20depanku.%20..%20https://t.co/thmmoALXu6' with link or location/anchor > 255 characters since it exceeds Excel's limit for URLS\n",
      "  force_unicode(url))\n",
      "C:\\Users\\ANNISA\\Anaconda3\\lib\\site-packages\\xlsxwriter\\worksheet.py:832: UserWarning: Ignoring URL 'https://t.co/FzHo2Bf2o2\n",
      "' with link or location/anchor > 255 characters since it exceeds Excel's limit for URLS\n",
      "  force_unicode(url))\n",
      "C:\\Users\\ANNISA\\Anaconda3\\lib\\site-packages\\xlsxwriter\\worksheet.py:832: UserWarning: Ignoring URL 'https://t.co/mSOM83Dge4\n",
      "' with link or location/anchor > 255 characters since it exceeds Excel's limit for URLS\n",
      "  force_unicode(url))\n"
     ]
    }
   ],
   "source": [
    "# menyimpan kumpulan tweet biasa dan dewasa kedalam format file .xlsx\n",
    "workbook = xlsxwriter.Workbook('data/dataset/dataset.xlsx')\n",
    "worksheet = workbook.add_worksheet()\n",
    "\n",
    "row = 0\n",
    "col = 0\n",
    "\n",
    "rowHeaders = ['tweet']\n",
    "worksheet.write_row(row, col,  tuple(rowHeaders))\n",
    "\n",
    "i = 0\n",
    "for t in konten_biasa:\n",
    "    new_txt = konten_biasa[i]\n",
    "    rowValues = [new_txt]\n",
    "    i += 1\n",
    "    row += 1\n",
    "    worksheet.write_row(row, col, tuple(rowValues))\n",
    "\n",
    "i = 0\n",
    "for t in konten_dewasa:\n",
    "    new_txt = konten_dewasa[i]\n",
    "    rowValues = [new_txt]\n",
    "    i += 1\n",
    "    row += 1\n",
    "    worksheet.write_row(row, col, tuple(rowValues))\n",
    "workbook.close()"
   ]
  },
  {
   "cell_type": "code",
   "execution_count": null,
   "metadata": {},
   "outputs": [],
   "source": []
  }
 ],
 "metadata": {
  "kernelspec": {
   "display_name": "Python 3",
   "language": "python",
   "name": "python3"
  },
  "language_info": {
   "codemirror_mode": {
    "name": "ipython",
    "version": 3
   },
   "file_extension": ".py",
   "mimetype": "text/x-python",
   "name": "python",
   "nbconvert_exporter": "python",
   "pygments_lexer": "ipython3",
   "version": "3.6.5"
  }
 },
 "nbformat": 4,
 "nbformat_minor": 2
}
