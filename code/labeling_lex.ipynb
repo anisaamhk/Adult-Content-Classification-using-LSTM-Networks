{
 "cells": [
  {
   "cell_type": "code",
   "execution_count": 0,
   "metadata": {
    "colab": {},
    "colab_type": "code",
    "id": "4KGwu6hX-gWA"
   },
   "outputs": [],
   "source": [
    "from sklearn.metrics import accuracy_score\n",
    "import pandas as pd\n",
    "import xlsxwriter\n",
    "import re\n",
    "import numpy as np\n",
    "import matplotlib.pyplot as plt\n",
    "import seaborn as sns"
   ]
  },
  {
   "cell_type": "code",
   "execution_count": 0,
   "metadata": {
    "colab": {},
    "colab_type": "code",
    "id": "fzM1QnqY-gWG"
   },
   "outputs": [],
   "source": [
    "def labeling(str):\n",
    "    text_list = str.lower().split(' ')\n",
    "    \n",
    "    ps = pd.read_excel('data/add/positif.xlsx')\n",
    "    positif = ps['keyword']\n",
    "    dictPos = []\n",
    "    pos = 0\n",
    "    for n in positif:\n",
    "        dictPos.append(n)\n",
    "    for i in text_list:\n",
    "        if i in dictPos:\n",
    "            pos = pos + 1\n",
    "\n",
    "    ng = pd.read_excel('data/add/negatif.xlsx')\n",
    "    negatif = ng['keyword']\n",
    "    dictNeg = []\n",
    "    neg = 0 \n",
    "    for m in negatif:\n",
    "        dictNeg.append(m)\n",
    "    for k in text_list:\n",
    "        if k in dictNeg:\n",
    "            neg = neg + 1\n",
    "    \n",
    "    result = pos - neg  \n",
    "    if result >= 0 :\n",
    "        label = 0 \n",
    "        #bukan konten dewasa (konteks positif)\n",
    "    elif result < 0 : \n",
    "        label = 1\n",
    "        #konten dewasa (konteks negatif)\n",
    "\n",
    "    return label"
   ]
  },
  {
   "cell_type": "code",
   "execution_count": 0,
   "metadata": {
    "colab": {},
    "colab_type": "code",
    "id": "ISJnzYoB-gWJ"
   },
   "outputs": [],
   "source": [
    "data = pd.read_excel(\"data/clean/cleansampel.xlsx\")\n",
    "tweet = data['tweet']\n",
    "label = data['label']\n",
    "\n",
    "workbook = xlsxwriter.Workbook('data/label/label_lexicon.xlsx')\n",
    "worksheet = workbook.add_worksheet()\n",
    "\n",
    "row = 0\n",
    "col = 0\n",
    "\n",
    "rowHeaders = ['tweet', 'label_lexicon', 'label_aktual']\n",
    "worksheet.write_row(row, col,  tuple(rowHeaders))\n",
    "\n",
    "for i in tweet:\n",
    "    tweet = i\n",
    "    label_lex = labeling(tweet)\n",
    "    rowValues = [tweet]\n",
    "    rowValues2 = [label_lex]\n",
    "    row += 1\n",
    "    worksheet.write_row(row, col, tuple(rowValues))\n",
    "    worksheet.write_row(row, col + 1, tuple(rowValues2))\n",
    "\n",
    "row = 0\n",
    "col = 0\n",
    "for j in label:\n",
    "    label = j\n",
    "    rowValues1 = [label]\n",
    "    row += 1\n",
    "    worksheet.write_row(row, col + 2, tuple(rowValues1))\n",
    "    \n",
    "workbook.close()"
   ]
  },
  {
   "cell_type": "code",
   "execution_count": 9,
   "metadata": {
    "colab": {
     "base_uri": "https://localhost:8080/",
     "height": 34
    },
    "colab_type": "code",
    "executionInfo": {
     "elapsed": 19610,
     "status": "ok",
     "timestamp": 1568620572618,
     "user": {
      "displayName": "ANISA MILADYA HAKIM -",
      "photoUrl": "https://lh3.googleusercontent.com/a-/AAuE7mAxiDFPChsKSUff6d_ZwtaHRXcazNCoPnwSRHwN=s64",
      "userId": "03112180736924655103"
     },
     "user_tz": -420
    },
    "id": "tjA9qfx5-gWM",
    "outputId": "9a9dec53-d47f-42a3-f149-2531eca4c0db"
   },
   "outputs": [
    {
     "name": "stdout",
     "output_type": "stream",
     "text": [
      "Accuracy: 87.00 %\n"
     ]
    }
   ],
   "source": [
    "# 3000 data\n",
    "data = pd.read_excel(\"data/label/label_lexicon.xlsx\")\n",
    "aktual = data['label_aktual']\n",
    "lexicon= data['label_lexicon']\n",
    "\n",
    "accuracy = accuracy_score(aktual, lexicon)\n",
    "print(\"Accuracy: %.2f\" % (accuracy*100), \"%\")"
   ]
  },
  {
   "cell_type": "code",
   "execution_count": 0,
   "metadata": {
    "colab": {},
    "colab_type": "code",
    "id": "-jx97VDM-gWQ"
   },
   "outputs": [],
   "source": []
  }
 ],
 "metadata": {
  "accelerator": "GPU",
  "colab": {
   "collapsed_sections": [],
   "name": "labeling_lex.ipynb",
   "provenance": [],
   "version": "0.3.2"
  },
  "kernelspec": {
   "display_name": "Python 3",
   "language": "python",
   "name": "python3"
  },
  "language_info": {
   "codemirror_mode": {
    "name": "ipython",
    "version": 3
   },
   "file_extension": ".py",
   "mimetype": "text/x-python",
   "name": "python",
   "nbconvert_exporter": "python",
   "pygments_lexer": "ipython3",
   "version": "3.6.5"
  }
 },
 "nbformat": 4,
 "nbformat_minor": 1
}
