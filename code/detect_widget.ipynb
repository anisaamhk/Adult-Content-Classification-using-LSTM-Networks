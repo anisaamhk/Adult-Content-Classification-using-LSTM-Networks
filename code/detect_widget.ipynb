{
 "cells": [
  {
   "cell_type": "code",
   "execution_count": 1,
   "metadata": {
    "colab": {},
    "colab_type": "code",
    "id": "myXkyRpxsNaE",
    "outputId": "e9b0e503-f298-4b5b-c97a-4eab8c9c21ac"
   },
   "outputs": [
    {
     "name": "stderr",
     "output_type": "stream",
     "text": [
      "Using TensorFlow backend.\n"
     ]
    }
   ],
   "source": [
    "from ipywidgets import widgets, Layout, Label\n",
    "from IPython.display import display, clear_output\n",
    "import numpy as np\n",
    "import pandas as pd\n",
    "from nltk.tokenize import sent_tokenize\n",
    "from keras.models import load_model\n",
    "from keras.preprocessing.text import Tokenizer\n",
    "from keras.preprocessing.sequence import pad_sequences\n",
    "from nltk import word_tokenize, sent_tokenize\n",
    "from nltk.corpus import stopwords\n",
    "import re\n",
    "import string\n",
    "import unicodedata\n",
    "import nltk\n",
    "from termcolor import colored"
   ]
  },
  {
   "cell_type": "code",
   "execution_count": 2,
   "metadata": {
    "colab": {},
    "colab_type": "code",
    "id": "VMiiqFLgsNaJ"
   },
   "outputs": [],
   "source": [
    "def remove_url(str):\n",
    "    str = re.sub(r'(?i)\\b((?:https?://|www\\d{0,3}[.]|[a-z0-9.\\-]+[.][a-z]{2,4}/)(?:[^\\s()<>]+|\\(([^\\s()<>]+|(\\([^\\s()<>]+\\)))*\\))+(?:\\(([^\\s()<>]+|(\\([^\\s()<>]+\\)))*\\)|[^\\s`!()\\[\\]{};:\\'\".,<>?«»“”‘’]))', '', str)\n",
    "    return str\n",
    "    \n",
    "def remove_digit(str):\n",
    "    str = re.sub(r'[^a-z ]*([.0-9])*\\d', ' ', str)\n",
    "    return str \n",
    "\n",
    "def remove_non_ascii(str):\n",
    "    str = unicodedata.normalize('NFKD', str).encode('ascii', 'ignore').decode('utf-8', 'ignore')\n",
    "    return str\n",
    "\n",
    "def remove_twitter_char(str):  \n",
    "    # mention\n",
    "    str = re.sub(r'(?:@[\\w_]+)', ' ', str)\n",
    "    # hashtag\n",
    "    str = re.sub(r\"(?:\\#+[\\w_]+[\\w\\'_\\-]*[\\w_]+)\", \" \", str)\n",
    "    # RT/cc\n",
    "    str = re.sub('RT', ' ', str)\n",
    "\n",
    "    return str\n",
    "\n",
    "def remove_punctuation(str):\n",
    "    str = re.sub(r'[^\\s\\w]', ' ', str)\n",
    "    return str\n",
    "\n",
    "def remove_multi_space(str):\n",
    "    str = re.sub('[\\s]+', ' ', str)\n",
    "    return str\n",
    "\n",
    "def casefolding(str):  \n",
    "    str = str.lower()   \n",
    "    return ' '.join(str.split())\n",
    "\n",
    "def remove_repeated_character(str):\n",
    "    str = re.sub(r'(.)\\1{2,}', r'\\1', str)\n",
    "    return str\n",
    "\n",
    "def normalize_slang_word(str):\n",
    "    text_list = str.split(' ')\n",
    "    slang_words_raw = pd.read_csv('data/add/slang_word_list.csv', sep=',', header=None)\n",
    "    slang_word_dict = {}\n",
    "\n",
    "    for item in slang_words_raw.values:\n",
    "        slang_word_dict[item[0]] = item[1]\n",
    "\n",
    "        for index in range(len(text_list)):\n",
    "            if text_list[index] in slang_word_dict.keys():\n",
    "                text_list[index] = slang_word_dict[text_list[index]]\n",
    "\n",
    "    return ' '.join(text_list)\n",
    "\n",
    "def remove_laugh(str):\n",
    "    str = re.sub(r\"\\b(?:(h|a|e)*(?:(ha|he|hue))+h?|(?:l+o+)+l+)|(?:(w|k)*(?:wk)+(w?|k?))\\b\", ' ', str)\n",
    "    \n",
    "    return str"
   ]
  },
  {
   "cell_type": "code",
   "execution_count": 3,
   "metadata": {
    "colab": {},
    "colab_type": "code",
    "id": "cCCxcZktsNaM"
   },
   "outputs": [],
   "source": [
    "def preprocessing(str):\n",
    "    str = remove_url(str)\n",
    "    str = remove_twitter_char(str)\n",
    "    str = remove_digit(str)\n",
    "    str = remove_non_ascii(str)\n",
    "    str = remove_punctuation(str)\n",
    "    str = remove_laugh(str)\n",
    "    str = remove_multi_space(str) \n",
    "    str = remove_repeated_character(str)    \n",
    "    str = casefolding(str)\n",
    "    str = normalize_slang_word(str)\n",
    "    \n",
    "    return str"
   ]
  },
  {
   "cell_type": "code",
   "execution_count": 4,
   "metadata": {
    "colab": {},
    "colab_type": "code",
    "id": "y3lD10O7sNaP"
   },
   "outputs": [],
   "source": [
    "train = pd.read_excel(\"data/label/combineSSL1.xlsx\")\n",
    "train.replace('', np.nan, inplace=True)\n",
    "train.dropna(inplace=True) # memastikan tidak ada nilai yang kosong"
   ]
  },
  {
   "cell_type": "code",
   "execution_count": 5,
   "metadata": {
    "colab": {},
    "colab_type": "code",
    "id": "cY_D7MncsNaS"
   },
   "outputs": [],
   "source": [
    "tokenizer = Tokenizer()\n",
    "tokenizer.fit_on_texts(train['tweet'].values)\n",
    "maxlen = max([len(i.split()) for i in train['tweet'].values])"
   ]
  },
  {
   "cell_type": "code",
   "execution_count": 6,
   "metadata": {
    "colab": {},
    "colab_type": "code",
    "id": "0MymgcoSsNaV",
    "outputId": "9e5c5d91-5c2e-488a-825d-02aa250cebf8"
   },
   "outputs": [
    {
     "name": "stdout",
     "output_type": "stream",
     "text": [
      "WARNING:tensorflow:From C:\\Users\\ANNISA\\Anaconda3\\lib\\site-packages\\tensorflow\\python\\framework\\op_def_library.py:263: colocate_with (from tensorflow.python.framework.ops) is deprecated and will be removed in a future version.\n",
      "Instructions for updating:\n",
      "Colocations handled automatically by placer.\n",
      "WARNING:tensorflow:From C:\\Users\\ANNISA\\Anaconda3\\lib\\site-packages\\keras\\backend\\tensorflow_backend.py:3445: calling dropout (from tensorflow.python.ops.nn_ops) with keep_prob is deprecated and will be removed in a future version.\n",
      "Instructions for updating:\n",
      "Please use `rate` instead of `keep_prob`. Rate should be set to `rate = 1 - keep_prob`.\n",
      "WARNING:tensorflow:From C:\\Users\\ANNISA\\Anaconda3\\lib\\site-packages\\tensorflow\\python\\ops\\math_ops.py:3066: to_int32 (from tensorflow.python.ops.math_ops) is deprecated and will be removed in a future version.\n",
      "Instructions for updating:\n",
      "Use tf.cast instead.\n"
     ]
    }
   ],
   "source": [
    "model = load_model('model/M1-Skenario03.h5')"
   ]
  },
  {
   "cell_type": "code",
   "execution_count": 7,
   "metadata": {
    "colab": {},
    "colab_type": "code",
    "id": "AZbMx7cSsNaX",
    "outputId": "00be36c2-4dae-4d66-9bbf-4e8e5fdccab4",
    "scrolled": true
   },
   "outputs": [
    {
     "name": "stdout",
     "output_type": "stream",
     "text": [
      "Deteksi Konten\n"
     ]
    },
    {
     "data": {
      "application/vnd.jupyter.widget-view+json": {
       "model_id": "5fe7a2e4980e4c2eb3d3feb21ae95e45",
       "version_major": 2,
       "version_minor": 0
      },
      "text/plain": [
       "Text(value='', layout=Layout(width='60%'))"
      ]
     },
     "metadata": {},
     "output_type": "display_data"
    },
    {
     "data": {
      "application/vnd.jupyter.widget-view+json": {
       "model_id": "097b591355884a8fa15ecf2f1923cda1",
       "version_major": 2,
       "version_minor": 0
      },
      "text/plain": [
       "ToggleButton(value=False, description='Check')"
      ]
     },
     "metadata": {},
     "output_type": "display_data"
    },
    {
     "data": {
      "application/vnd.jupyter.widget-view+json": {
       "model_id": "23597e318a0343289416e70e1128184a",
       "version_major": 2,
       "version_minor": 0
      },
      "text/plain": [
       "Output()"
      ]
     },
     "metadata": {},
     "output_type": "display_data"
    }
   ],
   "source": [
    "print(\"Deteksi Konten\")\n",
    "button = widgets.ToggleButton(description=\"Check\")\n",
    "text = widgets.Text(layout=Layout(width='60%'))\n",
    "output = widgets.Output()\n",
    "\n",
    "def on_button_clicked(b):\n",
    "    output.clear_output()      \n",
    "    with output:\n",
    "        kalimat = text.value\n",
    "        kalimat = preprocessing(kalimat)\n",
    "        kalimat = sent_tokenize(kalimat)\n",
    "        kalimat = tokenizer.texts_to_sequences(kalimat)\n",
    "        kalimat = pad_sequences(kalimat, maxlen=maxlen)\n",
    "        pred = model.predict(kalimat)\n",
    "        print(\"Status Konten: \")\n",
    "        if(np.argmax(pred) == 0):\n",
    "            non_adult = colored('Bukan Konten Dewasa', color='grey', on_color='on_blue', attrs=['bold'])\n",
    "            print(non_adult)\n",
    "        elif (np.argmax(pred) == 1):\n",
    "            adult = colored('Konten Dewasa', color='grey', on_color='on_red', attrs=['bold'])\n",
    "            print(adult)\n",
    "\n",
    "display(text)\n",
    "display(button, output)\n",
    "button.observe(on_button_clicked)"
   ]
  },
  {
   "cell_type": "code",
   "execution_count": null,
   "metadata": {},
   "outputs": [],
   "source": []
  }
 ],
 "metadata": {
  "accelerator": "GPU",
  "colab": {
   "name": "detect_widget.ipynb",
   "provenance": []
  },
  "kernelspec": {
   "display_name": "Python 3",
   "language": "python",
   "name": "python3"
  },
  "language_info": {
   "codemirror_mode": {
    "name": "ipython",
    "version": 3
   },
   "file_extension": ".py",
   "mimetype": "text/x-python",
   "name": "python",
   "nbconvert_exporter": "python",
   "pygments_lexer": "ipython3",
   "version": "3.6.5"
  }
 },
 "nbformat": 4,
 "nbformat_minor": 1
}
