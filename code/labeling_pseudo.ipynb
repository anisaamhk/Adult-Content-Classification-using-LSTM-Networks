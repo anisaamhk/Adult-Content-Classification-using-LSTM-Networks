{
 "cells": [
  {
   "cell_type": "code",
   "execution_count": 0,
   "metadata": {
    "colab": {
     "base_uri": "https://localhost:8080/",
     "height": 34
    },
    "colab_type": "code",
    "executionInfo": {
     "elapsed": 3925,
     "status": "ok",
     "timestamp": 1569048264329,
     "user": {
      "displayName": "ANISA MILADYA HAKIM -",
      "photoUrl": "https://lh3.googleusercontent.com/a-/AAuE7mAxiDFPChsKSUff6d_ZwtaHRXcazNCoPnwSRHwN=s64",
      "userId": "03112180736924655103"
     },
     "user_tz": -420
    },
    "id": "WS9tbtWWIbi-",
    "outputId": "762d227f-f783-444d-ebf7-1539d7714393"
   },
   "outputs": [
    {
     "name": "stderr",
     "output_type": "stream",
     "text": [
      "Using TensorFlow backend.\n"
     ]
    }
   ],
   "source": [
    "import numpy as np\n",
    "import pandas as pd \n",
    "from keras import initializers\n",
    "from keras.preprocessing.text import Tokenizer\n",
    "from keras.preprocessing.sequence import pad_sequences\n",
    "from keras.models import Sequential\n",
    "from keras.layers import Dense, Embedding, Dropout, LSTM\n",
    "from sklearn.model_selection import train_test_split\n",
    "from keras.utils.np_utils import to_categorical\n",
    "import matplotlib.pyplot as plt\n",
    "from sklearn.metrics import accuracy_score\n",
    "import seaborn as sns\n",
    "import xlsxwriter\n",
    "from keras.models import load_model"
   ]
  },
  {
   "cell_type": "code",
   "execution_count": 0,
   "metadata": {
    "colab": {
     "base_uri": "https://localhost:8080/",
     "height": 551
    },
    "colab_type": "code",
    "executionInfo": {
     "elapsed": 1520,
     "status": "ok",
     "timestamp": 1569048265993,
     "user": {
      "displayName": "ANISA MILADYA HAKIM -",
      "photoUrl": "https://lh3.googleusercontent.com/a-/AAuE7mAxiDFPChsKSUff6d_ZwtaHRXcazNCoPnwSRHwN=s64",
      "userId": "03112180736924655103"
     },
     "user_tz": -420
    },
    "id": "TK-qUjJJIbjJ",
    "outputId": "ffe292a6-bf8a-41f8-cff6-bf0b7aba1486"
   },
   "outputs": [
    {
     "name": "stdout",
     "output_type": "stream",
     "text": [
      "Total Data : 3000\n",
      "Bukan Dewasa : 1500\n",
      "Dewasa : 1500\n"
     ]
    },
    {
     "data": {
      "image/png": "[encoded data removed]",
      "text/plain": [
       "<Figure size 720x576 with 1 Axes>"
      ]
     },
     "metadata": {
      "tags": []
     },
     "output_type": "display_data"
    }
   ],
   "source": [
    "data = pd.read_excel(\"data/clean/cleansampel.xlsx\")\n",
    "data.replace('', np.nan, inplace=True)\n",
    "data.dropna(inplace=True)\n",
    "\n",
    "dewasa = data.loc[data['label'] == 1, 'tweet'].copy().reset_index(drop=True)\n",
    "bukan = data.loc[data['label'] == 0, 'tweet'].copy().reset_index(drop=True)\n",
    "print(\"Total Data :\", len(data))\n",
    "print(\"Bukan Dewasa :\", len(bukan))\n",
    "print(\"Dewasa :\", len(dewasa))\n",
    "\n",
    "plt.figure(figsize=(10,8))\n",
    "sns.countplot(x='label', data=data)\n",
    "plt.show()"
   ]
  },
  {
   "cell_type": "code",
   "execution_count": 0,
   "metadata": {
    "colab": {},
    "colab_type": "code",
    "id": "l8s0-cbOIbjP"
   },
   "outputs": [],
   "source": [
    "def get_model(X, Y):\n",
    "    model = Sequential() \n",
    "    model.add(Embedding(input_dim = vocab, output_dim = 128, input_length = maxlen, embeddings_initializer = initializer))\n",
    "    model.add(Dropout(0.9))\n",
    "    model.add(LSTM(128, recurrent_initializer = initializer, kernel_initializer = initializer))\n",
    "    model.add(Dropout(0.4))\n",
    "    model.add(Dense(2, activation='sigmoid', kernel_initializer = initializer)) \n",
    "    model.compile(loss='binary_crossentropy', optimizer='adam', metrics=['accuracy'])\n",
    "    print(model.summary())\n",
    "    \n",
    "    return model\n",
    "\n",
    "def evaluation(model, X, Y):\n",
    "    Y_pred = model.predict(X)\n",
    "    Y_pred_class = np.argmax(Y_pred, axis=1)\n",
    "    Y_act = Y\n",
    "    \n",
    "    acc = accuracy_score(Y_act, Y_pred_class)\n",
    "    \n",
    "    return acc"
   ]
  },
  {
   "cell_type": "code",
   "execution_count": 0,
   "metadata": {
    "colab": {},
    "colab_type": "code",
    "id": "7S0DuClIIbjd"
   },
   "outputs": [],
   "source": [
    "text = data['tweet'].values\n",
    "label = data['label'].values"
   ]
  },
  {
   "cell_type": "code",
   "execution_count": 0,
   "metadata": {
    "colab": {},
    "colab_type": "code",
    "id": "qpUSXTOSIbjg"
   },
   "outputs": [],
   "source": [
    "tokenizer = Tokenizer()\n",
    "tokenizer.fit_on_texts(text)\n",
    "\n",
    "vocab = max([len(tokenizer.word_index)]) + 1 # kamus kata \n",
    "maxlen = max([len(i.split()) for i in text]) # panjang kalimat\n",
    "batch_size = 32 # penentuan jumlah sampel yang ditraining pada tiap epoch\n",
    "num_epochs = 50 # banyak iterasi pada saat training model \n",
    "initializer = initializers.RandomUniform(minval=-0.05, maxval=0.05, seed=2) # mengatur angka random weigth"
   ]
  },
  {
   "cell_type": "code",
   "execution_count": 0,
   "metadata": {
    "colab": {},
    "colab_type": "code",
    "id": "Huk07ZmfIbjj"
   },
   "outputs": [],
   "source": [
    "#Data Train\n",
    "X = tokenizer.texts_to_sequences(text)\n",
    "X = pad_sequences(X, maxlen=maxlen)\n",
    "Y = to_categorical(label, num_classes = 2)"
   ]
  },
  {
   "cell_type": "code",
   "execution_count": 0,
   "metadata": {
    "colab": {
     "base_uri": "https://localhost:8080/",
     "height": 683
    },
    "colab_type": "code",
    "collapsed": true,
    "executionInfo": {
     "elapsed": 1417,
     "status": "ok",
     "timestamp": 1568672202754,
     "user": {
      "displayName": "ANISA MILADYA HAKIM -",
      "photoUrl": "https://lh3.googleusercontent.com/a-/AAuE7mAxiDFPChsKSUff6d_ZwtaHRXcazNCoPnwSRHwN=s64",
      "userId": "03112180736924655103"
     },
     "user_tz": -420
    },
    "id": "7Q0Nb6RmIbjp",
    "outputId": "cf349561-51aa-4e1e-9a25-71cded04ecb6"
   },
   "outputs": [
    {
     "name": "stdout",
     "output_type": "stream",
     "text": [
      "WARNING:tensorflow:From /usr/local/lib/python3.6/dist-packages/keras/backend/tensorflow_backend.py:66: The name tf.get_default_graph is deprecated. Please use tf.compat.v1.get_default_graph instead.\n",
      "\n",
      "WARNING:tensorflow:From /usr/local/lib/python3.6/dist-packages/keras/backend/tensorflow_backend.py:541: The name tf.placeholder is deprecated. Please use tf.compat.v1.placeholder instead.\n",
      "\n",
      "WARNING:tensorflow:From /usr/local/lib/python3.6/dist-packages/keras/backend/tensorflow_backend.py:4432: The name tf.random_uniform is deprecated. Please use tf.random.uniform instead.\n",
      "\n",
      "WARNING:tensorflow:From /usr/local/lib/python3.6/dist-packages/keras/backend/tensorflow_backend.py:148: The name tf.placeholder_with_default is deprecated. Please use tf.compat.v1.placeholder_with_default instead.\n",
      "\n",
      "WARNING:tensorflow:From /usr/local/lib/python3.6/dist-packages/keras/backend/tensorflow_backend.py:3733: calling dropout (from tensorflow.python.ops.nn_ops) with keep_prob is deprecated and will be removed in a future version.\n",
      "Instructions for updating:\n",
      "Please use `rate` instead of `keep_prob`. Rate should be set to `rate = 1 - keep_prob`.\n",
      "WARNING:tensorflow:Large dropout rate: 0.9 (>0.5). In TensorFlow 2.x, dropout() uses dropout rate instead of keep_prob. Please ensure that this is intended.\n",
      "WARNING:tensorflow:From /usr/local/lib/python3.6/dist-packages/keras/optimizers.py:793: The name tf.train.Optimizer is deprecated. Please use tf.compat.v1.train.Optimizer instead.\n",
      "\n",
      "WARNING:tensorflow:From /usr/local/lib/python3.6/dist-packages/keras/backend/tensorflow_backend.py:3657: The name tf.log is deprecated. Please use tf.math.log instead.\n",
      "\n",
      "WARNING:tensorflow:From /usr/local/lib/python3.6/dist-packages/tensorflow/python/ops/nn_impl.py:180: add_dispatch_support.<locals>.wrapper (from tensorflow.python.ops.array_ops) is deprecated and will be removed in a future version.\n",
      "Instructions for updating:\n",
      "Use tf.where in 2.0, which has the same broadcast rule as np.where\n",
      "Model: \"sequential_1\"\n",
      "_________________________________________________________________\n",
      "Layer (type)                 Output Shape              Param #   \n",
      "=================================================================\n",
      "embedding_1 (Embedding)      (None, 49, 128)           1018752   \n",
      "_________________________________________________________________\n",
      "dropout_1 (Dropout)          (None, 49, 128)           0         \n",
      "_________________________________________________________________\n",
      "lstm_1 (LSTM)                (None, 128)               131584    \n",
      "_________________________________________________________________\n",
      "dropout_2 (Dropout)          (None, 128)               0         \n",
      "_________________________________________________________________\n",
      "dense_1 (Dense)              (None, 2)                 258       \n",
      "=================================================================\n",
      "Total params: 1,150,594\n",
      "Trainable params: 1,150,594\n",
      "Non-trainable params: 0\n",
      "_________________________________________________________________\n",
      "None\n"
     ]
    }
   ],
   "source": [
    "model = get_model(X, Y)"
   ]
  },
  {
   "cell_type": "code",
   "execution_count": 0,
   "metadata": {
    "colab": {
     "base_uri": "https://localhost:8080/",
     "height": 1000
    },
    "colab_type": "code",
    "collapsed": true,
    "executionInfo": {
     "elapsed": 431489,
     "status": "ok",
     "timestamp": 1568672639508,
     "user": {
      "displayName": "ANISA MILADYA HAKIM -",
      "photoUrl": "https://lh3.googleusercontent.com/a-/AAuE7mAxiDFPChsKSUff6d_ZwtaHRXcazNCoPnwSRHwN=s64",
      "userId": "03112180736924655103"
     },
     "user_tz": -420
    },
    "id": "Pgfk2MrYIbjv",
    "outputId": "877187cc-b24b-40be-8209-ed5ea7b47cc0"
   },
   "outputs": [
    {
     "name": "stdout",
     "output_type": "stream",
     "text": [
      "Epoch 1/50\n",
      "3000/3000 [==============================] - 10s 3ms/step - loss: 0.6149 - acc: 0.6838\n",
      "Epoch 2/50\n",
      "3000/3000 [==============================] - 9s 3ms/step - loss: 0.2004 - acc: 0.9292\n",
      "Epoch 3/50\n",
      "3000/3000 [==============================] - 9s 3ms/step - loss: 0.0913 - acc: 0.9698\n",
      "Epoch 4/50\n",
      "3000/3000 [==============================] - 9s 3ms/step - loss: 0.0629 - acc: 0.9807\n",
      "Epoch 5/50\n",
      "3000/3000 [==============================] - 9s 3ms/step - loss: 0.0612 - acc: 0.9820\n",
      "Epoch 6/50\n",
      "3000/3000 [==============================] - 9s 3ms/step - loss: 0.0363 - acc: 0.9893\n",
      "Epoch 7/50\n",
      "3000/3000 [==============================] - 9s 3ms/step - loss: 0.0173 - acc: 0.9943\n",
      "Epoch 8/50\n",
      "3000/3000 [==============================] - 8s 3ms/step - loss: 0.0144 - acc: 0.9965\n",
      "Epoch 9/50\n",
      "3000/3000 [==============================] - 8s 3ms/step - loss: 0.0157 - acc: 0.9950\n",
      "Epoch 10/50\n",
      "3000/3000 [==============================] - 9s 3ms/step - loss: 0.0087 - acc: 0.9973\n",
      "Epoch 11/50\n",
      "3000/3000 [==============================] - 9s 3ms/step - loss: 0.0691 - acc: 0.9772\n",
      "Epoch 12/50\n",
      "3000/3000 [==============================] - 9s 3ms/step - loss: 0.0115 - acc: 0.9977\n",
      "Epoch 13/50\n",
      "3000/3000 [==============================] - 8s 3ms/step - loss: 0.0055 - acc: 0.9990\n",
      "Epoch 14/50\n",
      "3000/3000 [==============================] - 9s 3ms/step - loss: 0.0056 - acc: 0.9980\n",
      "Epoch 15/50\n",
      "3000/3000 [==============================] - 8s 3ms/step - loss: 0.0020 - acc: 0.9995\n",
      "Epoch 16/50\n",
      "3000/3000 [==============================] - 9s 3ms/step - loss: 0.0024 - acc: 0.9993\n",
      "Epoch 17/50\n",
      "3000/3000 [==============================] - 9s 3ms/step - loss: 7.8502e-04 - acc: 1.0000\n",
      "Epoch 18/50\n",
      "3000/3000 [==============================] - 8s 3ms/step - loss: 0.0019 - acc: 0.9993\n",
      "Epoch 19/50\n",
      "3000/3000 [==============================] - 9s 3ms/step - loss: 7.3991e-04 - acc: 1.0000\n",
      "Epoch 20/50\n",
      "3000/3000 [==============================] - 8s 3ms/step - loss: 0.0019 - acc: 0.9993\n",
      "Epoch 21/50\n",
      "3000/3000 [==============================] - 8s 3ms/step - loss: 0.0010 - acc: 0.9997\n",
      "Epoch 22/50\n",
      "3000/3000 [==============================] - 9s 3ms/step - loss: 4.9021e-04 - acc: 1.0000\n",
      "Epoch 23/50\n",
      "3000/3000 [==============================] - 9s 3ms/step - loss: 0.0011 - acc: 0.9993\n",
      "Epoch 24/50\n",
      "3000/3000 [==============================] - 9s 3ms/step - loss: 0.0023 - acc: 0.9993\n",
      "Epoch 25/50\n",
      "3000/3000 [==============================] - 9s 3ms/step - loss: 3.5196e-04 - acc: 1.0000\n",
      "Epoch 26/50\n",
      "3000/3000 [==============================] - 8s 3ms/step - loss: 2.8478e-04 - acc: 1.0000\n",
      "Epoch 27/50\n",
      "3000/3000 [==============================] - 8s 3ms/step - loss: 0.0037 - acc: 0.9997\n",
      "Epoch 28/50\n",
      "3000/3000 [==============================] - 9s 3ms/step - loss: 8.1100e-04 - acc: 1.0000\n",
      "Epoch 29/50\n",
      "3000/3000 [==============================] - 9s 3ms/step - loss: 3.9867e-04 - acc: 1.0000\n",
      "Epoch 30/50\n",
      "3000/3000 [==============================] - 9s 3ms/step - loss: 3.9608e-04 - acc: 1.0000\n",
      "Epoch 31/50\n",
      "3000/3000 [==============================] - 9s 3ms/step - loss: 2.0606e-04 - acc: 1.0000\n",
      "Epoch 32/50\n",
      "3000/3000 [==============================] - 9s 3ms/step - loss: 8.4741e-04 - acc: 0.9997\n",
      "Epoch 33/50\n",
      "3000/3000 [==============================] - 8s 3ms/step - loss: 9.3060e-04 - acc: 0.9993\n",
      "Epoch 34/50\n",
      "3000/3000 [==============================] - 9s 3ms/step - loss: 1.9630e-04 - acc: 1.0000\n",
      "Epoch 35/50\n",
      "3000/3000 [==============================] - 9s 3ms/step - loss: 1.6705e-04 - acc: 1.0000\n",
      "Epoch 36/50\n",
      "3000/3000 [==============================] - 8s 3ms/step - loss: 1.4705e-04 - acc: 1.0000\n",
      "Epoch 37/50\n",
      "3000/3000 [==============================] - 9s 3ms/step - loss: 2.8491e-04 - acc: 1.0000\n",
      "Epoch 38/50\n",
      "3000/3000 [==============================] - 8s 3ms/step - loss: 1.3282e-04 - acc: 1.0000\n",
      "Epoch 39/50\n",
      "3000/3000 [==============================] - 9s 3ms/step - loss: 2.9381e-04 - acc: 1.0000\n",
      "Epoch 40/50\n",
      "3000/3000 [==============================] - 8s 3ms/step - loss: 7.2433e-05 - acc: 1.0000\n",
      "Epoch 41/50\n",
      "3000/3000 [==============================] - 8s 3ms/step - loss: 8.6944e-05 - acc: 1.0000\n",
      "Epoch 42/50\n",
      "3000/3000 [==============================] - 9s 3ms/step - loss: 9.3620e-05 - acc: 1.0000\n",
      "Epoch 43/50\n",
      "3000/3000 [==============================] - 8s 3ms/step - loss: 4.2896e-05 - acc: 1.0000\n",
      "Epoch 44/50\n",
      "3000/3000 [==============================] - 8s 3ms/step - loss: 4.1093e-05 - acc: 1.0000\n",
      "Epoch 45/50\n",
      "3000/3000 [==============================] - 9s 3ms/step - loss: 7.8456e-05 - acc: 1.0000\n",
      "Epoch 46/50\n",
      "3000/3000 [==============================] - 9s 3ms/step - loss: 0.0035 - acc: 0.9990\n",
      "Epoch 47/50\n",
      "3000/3000 [==============================] - 8s 3ms/step - loss: 0.0022 - acc: 0.9993\n",
      "Epoch 48/50\n",
      "3000/3000 [==============================] - 9s 3ms/step - loss: 4.0368e-04 - acc: 1.0000\n",
      "Epoch 49/50\n",
      "3000/3000 [==============================] - 9s 3ms/step - loss: 1.1258e-04 - acc: 1.0000\n",
      "Epoch 50/50\n",
      "3000/3000 [==============================] - 8s 3ms/step - loss: 2.4141e-04 - acc: 1.0000\n"
     ]
    },
    {
     "data": {
      "text/plain": [
       "<keras.callbacks.History at 0x7f9d24c3ea90>"
      ]
     },
     "execution_count": 10,
     "metadata": {
      "tags": []
     },
     "output_type": "execute_result"
    }
   ],
   "source": [
    "# training model\n",
    "model.fit(X, Y, batch_size=batch_size, epochs=num_epochs, verbose=1)"
   ]
  },
  {
   "cell_type": "code",
   "execution_count": 0,
   "metadata": {
    "colab": {
     "base_uri": "https://localhost:8080/",
     "height": 34
    },
    "colab_type": "code",
    "executionInfo": {
     "elapsed": 263226,
     "status": "ok",
     "timestamp": 1568672641622,
     "user": {
      "displayName": "ANISA MILADYA HAKIM -",
      "photoUrl": "https://lh3.googleusercontent.com/a-/AAuE7mAxiDFPChsKSUff6d_ZwtaHRXcazNCoPnwSRHwN=s64",
      "userId": "03112180736924655103"
     },
     "user_tz": -420
    },
    "id": "5DBUPTbMIbj4",
    "outputId": "22b20b0c-2044-4a49-e8de-ef47d796979f"
   },
   "outputs": [
    {
     "name": "stdout",
     "output_type": "stream",
     "text": [
      "Accuracy: 100.00 %\n"
     ]
    }
   ],
   "source": [
    "acc = evaluation(model, X, label)\n",
    "print(\"Accuracy: %.2f\" % (acc*100), \"%\")"
   ]
  },
  {
   "cell_type": "code",
   "execution_count": 0,
   "metadata": {
    "colab": {},
    "colab_type": "code",
    "id": "y_Deb12uIbj-"
   },
   "outputs": [],
   "source": [
    "model.save('model/pseudo_labeling.h5')"
   ]
  },
  {
   "cell_type": "markdown",
   "metadata": {
    "colab_type": "text",
    "id": "2JGVpgWuIbkC"
   },
   "source": [
    "# Labeling Data"
   ]
  },
  {
   "cell_type": "code",
   "execution_count": 0,
   "metadata": {
    "colab": {},
    "colab_type": "code",
    "id": "gfDbvZe1IbkD"
   },
   "outputs": [],
   "source": [
    "unlabeled = pd.read_excel(\"data/clean/cleandata.xlsx\")\n",
    "unlabeled.replace('', np.nan, inplace=True)\n",
    "unlabeled.dropna(inplace=True)"
   ]
  },
  {
   "cell_type": "code",
   "execution_count": 0,
   "metadata": {
    "colab": {},
    "colab_type": "code",
    "id": "McD5tizCIbkJ"
   },
   "outputs": [],
   "source": [
    "un_text = unlabeled['tweet'].values"
   ]
  },
  {
   "cell_type": "code",
   "execution_count": 0,
   "metadata": {
    "colab": {},
    "colab_type": "code",
    "id": "IvnofKovIbkN"
   },
   "outputs": [],
   "source": [
    "text1 = tokenizer.texts_to_sequences(un_text)\n",
    "text1 = pad_sequences(text1, maxlen=maxlen)"
   ]
  },
  {
   "cell_type": "code",
   "execution_count": 0,
   "metadata": {
    "colab": {},
    "colab_type": "code",
    "id": "7psjZki1IbkQ"
   },
   "outputs": [],
   "source": [
    "pred_label = model.predict(text1)\n",
    "label1 = np.argmax(pred_label, axis = 1) "
   ]
  },
  {
   "cell_type": "code",
   "execution_count": 0,
   "metadata": {
    "colab": {},
    "colab_type": "code",
    "id": "Q-Bn3bwUIbkT"
   },
   "outputs": [],
   "source": [
    "workbook = xlsxwriter.Workbook('data/label/label_pseudo')\n",
    "worksheet = workbook.add_worksheet()\n",
    "\n",
    "row = 0\n",
    "col = 0\n",
    "\n",
    "rowHeaders = ['tweet', 'label']\n",
    "worksheet.write_row(row, col,  tuple(rowHeaders))\n",
    "\n",
    "\n",
    "for i in un_text:\n",
    "    tweet = i\n",
    "    rowValues = [tweet]\n",
    "    row += 1\n",
    "    worksheet.write_row(row, col, tuple(rowValues))\n",
    "\n",
    "row = 0\n",
    "for l in label1:\n",
    "    label = l\n",
    "    rowValues = [label]\n",
    "    row += 1 \n",
    "    worksheet.write_row(row, col + 1, tuple(rowValues))\n",
    "\n",
    "workbook.close()"
   ]
  },
  {
   "cell_type": "markdown",
   "metadata": {
    "colab_type": "text",
    "id": "7JmHHjafIbkW"
   },
   "source": [
    "# Retrained Model"
   ]
  },
  {
   "cell_type": "code",
   "execution_count": 0,
   "metadata": {
    "colab": {},
    "colab_type": "code",
    "id": "RgE7_8EMIbka"
   },
   "outputs": [],
   "source": [
    "excel_names = [\"data/clean/cleansampel.xlsx\", \"data/label/label_pseudo.xlsx\"]\n",
    "excels = [pd.ExcelFile(name) for name in excel_names]\n",
    "\n",
    "# ubah ke data frame \n",
    "# hapus header pertama, yang merupakan judul kolom\n",
    "frames = [x.parse(x.sheet_names[0], header=None,index_col=None) for x in excels]\n",
    "frames[1:] = [df[1:] for df in frames[1:]]\n",
    "\n",
    "# menggabungkan dataframe\n",
    "combined = pd.concat(frames)\n",
    "\n",
    "# tulis/save ke file baru \n",
    "combined.to_excel(\"data/label/combineSSL1.xlsx\", header=False, index=False)"
   ]
  },
  {
   "cell_type": "code",
   "execution_count": 0,
   "metadata": {
    "colab": {},
    "colab_type": "code",
    "id": "-C9vWtf2Ibke"
   },
   "outputs": [],
   "source": [
    "data = pd.read_excel(\"data/label/combineSSL1.xlsx\")\n",
    "data.replace('', np.nan, inplace=True)\n",
    "data.dropna(inplace=True)"
   ]
  },
  {
   "cell_type": "code",
   "execution_count": 0,
   "metadata": {
    "colab": {
     "base_uri": "https://localhost:8080/",
     "height": 551
    },
    "colab_type": "code",
    "executionInfo": {
     "elapsed": 1132,
     "status": "ok",
     "timestamp": 1569048308373,
     "user": {
      "displayName": "ANISA MILADYA HAKIM -",
      "photoUrl": "https://lh3.googleusercontent.com/a-/AAuE7mAxiDFPChsKSUff6d_ZwtaHRXcazNCoPnwSRHwN=s64",
      "userId": "03112180736924655103"
     },
     "user_tz": -420
    },
    "id": "awK0JXc2Ibkh",
    "outputId": "defb1203-d34e-4f45-ab34-5b58afea86ff"
   },
   "outputs": [
    {
     "name": "stdout",
     "output_type": "stream",
     "text": [
      "Total Data : 54338\n",
      "Bukan Dewasa : 27192\n",
      "Dewasa : 27146\n"
     ]
    },
    {
     "data": {
      "image/png": "[encoded data removed]",
      "text/plain": [
       "<Figure size 720x576 with 1 Axes>"
      ]
     },
     "metadata": {
      "tags": []
     },
     "output_type": "display_data"
    }
   ],
   "source": [
    "dewasa = data.loc[data['label'] == 1, 'tweet'].copy().reset_index(drop=True)\n",
    "bukan = data.loc[data['label'] == 0, 'tweet'].copy().reset_index(drop=True)\n",
    "print(\"Total Data :\", len(data))\n",
    "print(\"Bukan Dewasa :\", len(bukan))\n",
    "print(\"Dewasa :\", len(dewasa))\n",
    "\n",
    "plt.figure(figsize=(10,8))\n",
    "sns.countplot(x='label', data=data)\n",
    "plt.show()"
   ]
  },
  {
   "cell_type": "code",
   "execution_count": 0,
   "metadata": {
    "colab": {},
    "colab_type": "code",
    "id": "EGYHt9coIbkk"
   },
   "outputs": [],
   "source": [
    "text2 = data['tweet'].values\n",
    "label2 = data['label'].values"
   ]
  },
  {
   "cell_type": "code",
   "execution_count": 0,
   "metadata": {
    "colab": {},
    "colab_type": "code",
    "id": "cDichW8sIbkp"
   },
   "outputs": [],
   "source": [
    "data_train, data_test, label_train, label_test = train_test_split(text2, label2, test_size = 0.33, random_state = 42)\n",
    "data_train, data_val, label_train, label_val = train_test_split(data_train, label_train, test_size = 0.33, random_state = 42)"
   ]
  },
  {
   "cell_type": "code",
   "execution_count": 0,
   "metadata": {
    "colab": {},
    "colab_type": "code",
    "id": "WlokvBOsIbky"
   },
   "outputs": [],
   "source": [
    "X_train = tokenizer.texts_to_sequences(data_train)\n",
    "X_train = pad_sequences(X_train, maxlen=maxlen)\n",
    "Y_train = to_categorical(label_train, num_classes = 2)\n",
    "\n",
    "X_test = tokenizer.texts_to_sequences(data_test)\n",
    "X_test = pad_sequences(X_test, maxlen=maxlen)\n",
    "Y_test = to_categorical(label_test, num_classes = 2)\n",
    "\n",
    "X_val = tokenizer.texts_to_sequences(data_val)\n",
    "X_val = pad_sequences(X_val, maxlen=maxlen)\n",
    "Y_val = to_categorical(label_val, num_classes = 2)"
   ]
  },
  {
   "cell_type": "code",
   "execution_count": 0,
   "metadata": {
    "colab": {
     "base_uri": "https://localhost:8080/",
     "height": 1000
    },
    "colab_type": "code",
    "collapsed": true,
    "executionInfo": {
     "elapsed": 4684159,
     "status": "ok",
     "timestamp": 1569053002829,
     "user": {
      "displayName": "ANISA MILADYA HAKIM -",
      "photoUrl": "https://lh3.googleusercontent.com/a-/AAuE7mAxiDFPChsKSUff6d_ZwtaHRXcazNCoPnwSRHwN=s64",
      "userId": "03112180736924655103"
     },
     "user_tz": -420
    },
    "id": "TpXMn2z7Ibk-",
    "outputId": "a98f64d0-5e7e-472d-9625-840dbe07af90"
   },
   "outputs": [
    {
     "name": "stdout",
     "output_type": "stream",
     "text": [
      "Train on 24392 samples, validate on 12014 samples\n",
      "Epoch 1/50\n",
      "24392/24392 [==============================] - 96s 4ms/step - loss: 0.2154 - acc: 0.9203 - val_loss: 0.1328 - val_acc: 0.9547\n",
      "Epoch 2/50\n",
      "24392/24392 [==============================] - 94s 4ms/step - loss: 0.1385 - acc: 0.9509 - val_loss: 0.1222 - val_acc: 0.9569\n",
      "Epoch 3/50\n",
      "24392/24392 [==============================] - 94s 4ms/step - loss: 0.1224 - acc: 0.9559 - val_loss: 0.1188 - val_acc: 0.9570\n",
      "Epoch 4/50\n",
      "24392/24392 [==============================] - 95s 4ms/step - loss: 0.1132 - acc: 0.9587 - val_loss: 0.1173 - val_acc: 0.9573\n",
      "Epoch 5/50\n",
      "24392/24392 [==============================] - 94s 4ms/step - loss: 0.1067 - acc: 0.9610 - val_loss: 0.1133 - val_acc: 0.9567\n",
      "Epoch 6/50\n",
      "24392/24392 [==============================] - 94s 4ms/step - loss: 0.1007 - acc: 0.9617 - val_loss: 0.1133 - val_acc: 0.9580\n",
      "Epoch 7/50\n",
      "24392/24392 [==============================] - 94s 4ms/step - loss: 0.0942 - acc: 0.9626 - val_loss: 0.1144 - val_acc: 0.9574\n",
      "Epoch 8/50\n",
      "24392/24392 [==============================] - 94s 4ms/step - loss: 0.0906 - acc: 0.9654 - val_loss: 0.1182 - val_acc: 0.9587\n",
      "Epoch 9/50\n",
      "24392/24392 [==============================] - 94s 4ms/step - loss: 0.0871 - acc: 0.9672 - val_loss: 0.1121 - val_acc: 0.9595\n",
      "Epoch 10/50\n",
      "24392/24392 [==============================] - 94s 4ms/step - loss: 0.0848 - acc: 0.9669 - val_loss: 0.1124 - val_acc: 0.9595\n",
      "Epoch 11/50\n",
      "24392/24392 [==============================] - 94s 4ms/step - loss: 0.0833 - acc: 0.9659 - val_loss: 0.1137 - val_acc: 0.9606\n",
      "Epoch 12/50\n",
      "24392/24392 [==============================] - 94s 4ms/step - loss: 0.0784 - acc: 0.9684 - val_loss: 0.1146 - val_acc: 0.9605\n",
      "Epoch 13/50\n",
      "24392/24392 [==============================] - 94s 4ms/step - loss: 0.0761 - acc: 0.9690 - val_loss: 0.1124 - val_acc: 0.9606\n",
      "Epoch 14/50\n",
      "24392/24392 [==============================] - 94s 4ms/step - loss: 0.0750 - acc: 0.9705 - val_loss: 0.1101 - val_acc: 0.9614\n",
      "Epoch 15/50\n",
      "24392/24392 [==============================] - 96s 4ms/step - loss: 0.0708 - acc: 0.9711 - val_loss: 0.1126 - val_acc: 0.9616\n",
      "Epoch 16/50\n",
      "24392/24392 [==============================] - 95s 4ms/step - loss: 0.0708 - acc: 0.9715 - val_loss: 0.1163 - val_acc: 0.9622\n",
      "Epoch 17/50\n",
      "24392/24392 [==============================] - 96s 4ms/step - loss: 0.0696 - acc: 0.9719 - val_loss: 0.1135 - val_acc: 0.9618\n",
      "Epoch 18/50\n",
      "24392/24392 [==============================] - 94s 4ms/step - loss: 0.0696 - acc: 0.9719 - val_loss: 0.1178 - val_acc: 0.9606\n",
      "Epoch 19/50\n",
      "24392/24392 [==============================] - 94s 4ms/step - loss: 0.0673 - acc: 0.9728 - val_loss: 0.1158 - val_acc: 0.9615\n",
      "Epoch 20/50\n",
      "24392/24392 [==============================] - 94s 4ms/step - loss: 0.0653 - acc: 0.9728 - val_loss: 0.1184 - val_acc: 0.9611\n",
      "Epoch 21/50\n",
      "24392/24392 [==============================] - 93s 4ms/step - loss: 0.0643 - acc: 0.9727 - val_loss: 0.1211 - val_acc: 0.9605\n",
      "Epoch 22/50\n",
      "24392/24392 [==============================] - 94s 4ms/step - loss: 0.0622 - acc: 0.9739 - val_loss: 0.1217 - val_acc: 0.9609\n",
      "Epoch 23/50\n",
      "24392/24392 [==============================] - 95s 4ms/step - loss: 0.0621 - acc: 0.9740 - val_loss: 0.1217 - val_acc: 0.9606\n",
      "Epoch 24/50\n",
      "24392/24392 [==============================] - 93s 4ms/step - loss: 0.0595 - acc: 0.9752 - val_loss: 0.1303 - val_acc: 0.9600\n",
      "Epoch 25/50\n",
      "24392/24392 [==============================] - 92s 4ms/step - loss: 0.0579 - acc: 0.9757 - val_loss: 0.1245 - val_acc: 0.9602\n",
      "Epoch 26/50\n",
      "24392/24392 [==============================] - 94s 4ms/step - loss: 0.0594 - acc: 0.9754 - val_loss: 0.1216 - val_acc: 0.9612\n",
      "Epoch 27/50\n",
      "24392/24392 [==============================] - 94s 4ms/step - loss: 0.0586 - acc: 0.9751 - val_loss: 0.1301 - val_acc: 0.9602\n",
      "Epoch 28/50\n",
      "24392/24392 [==============================] - 93s 4ms/step - loss: 0.0571 - acc: 0.9755 - val_loss: 0.1269 - val_acc: 0.9615\n",
      "Epoch 29/50\n",
      "24392/24392 [==============================] - 94s 4ms/step - loss: 0.0569 - acc: 0.9756 - val_loss: 0.1350 - val_acc: 0.9580\n",
      "Epoch 30/50\n",
      "24392/24392 [==============================] - 94s 4ms/step - loss: 0.0563 - acc: 0.9766 - val_loss: 0.1254 - val_acc: 0.9615\n",
      "Epoch 31/50\n",
      "24392/24392 [==============================] - 93s 4ms/step - loss: 0.0537 - acc: 0.9763 - val_loss: 0.1362 - val_acc: 0.9602\n",
      "Epoch 32/50\n",
      "24392/24392 [==============================] - 95s 4ms/step - loss: 0.0550 - acc: 0.9767 - val_loss: 0.1271 - val_acc: 0.9616\n",
      "Epoch 33/50\n",
      "24392/24392 [==============================] - 93s 4ms/step - loss: 0.0519 - acc: 0.9769 - val_loss: 0.1401 - val_acc: 0.9618\n",
      "Epoch 34/50\n",
      "24392/24392 [==============================] - 93s 4ms/step - loss: 0.0538 - acc: 0.9767 - val_loss: 0.1315 - val_acc: 0.9601\n",
      "Epoch 35/50\n",
      "24392/24392 [==============================] - 93s 4ms/step - loss: 0.0527 - acc: 0.9774 - val_loss: 0.1333 - val_acc: 0.9595\n",
      "Epoch 36/50\n",
      "24392/24392 [==============================] - 92s 4ms/step - loss: 0.0520 - acc: 0.9781 - val_loss: 0.1437 - val_acc: 0.9608\n",
      "Epoch 37/50\n",
      "24392/24392 [==============================] - 92s 4ms/step - loss: 0.0516 - acc: 0.9781 - val_loss: 0.1369 - val_acc: 0.9595\n",
      "Epoch 38/50\n",
      "24392/24392 [==============================] - 93s 4ms/step - loss: 0.0512 - acc: 0.9779 - val_loss: 0.1370 - val_acc: 0.9593\n",
      "Epoch 39/50\n",
      "24392/24392 [==============================] - 93s 4ms/step - loss: 0.0502 - acc: 0.9775 - val_loss: 0.1435 - val_acc: 0.9600\n",
      "Epoch 40/50\n",
      "24392/24392 [==============================] - 94s 4ms/step - loss: 0.0485 - acc: 0.9796 - val_loss: 0.1489 - val_acc: 0.9605\n",
      "Epoch 41/50\n",
      "24392/24392 [==============================] - 93s 4ms/step - loss: 0.0515 - acc: 0.9780 - val_loss: 0.1377 - val_acc: 0.9600\n",
      "Epoch 42/50\n",
      "24392/24392 [==============================] - 92s 4ms/step - loss: 0.0518 - acc: 0.9788 - val_loss: 0.1373 - val_acc: 0.9602\n",
      "Epoch 43/50\n",
      "24392/24392 [==============================] - 93s 4ms/step - loss: 0.0468 - acc: 0.9789 - val_loss: 0.1671 - val_acc: 0.9580\n",
      "Epoch 44/50\n",
      "24392/24392 [==============================] - 94s 4ms/step - loss: 0.0487 - acc: 0.9786 - val_loss: 0.1588 - val_acc: 0.9584\n",
      "Epoch 45/50\n",
      "24392/24392 [==============================] - 93s 4ms/step - loss: 0.0462 - acc: 0.9793 - val_loss: 0.1512 - val_acc: 0.9605\n",
      "Epoch 46/50\n",
      "24392/24392 [==============================] - 93s 4ms/step - loss: 0.0461 - acc: 0.9810 - val_loss: 0.1481 - val_acc: 0.9599\n",
      "Epoch 47/50\n",
      "24392/24392 [==============================] - 94s 4ms/step - loss: 0.0487 - acc: 0.9797 - val_loss: 0.1358 - val_acc: 0.9612\n",
      "Epoch 48/50\n",
      "24392/24392 [==============================] - 93s 4ms/step - loss: 0.0476 - acc: 0.9796 - val_loss: 0.1480 - val_acc: 0.9606\n",
      "Epoch 49/50\n",
      "24392/24392 [==============================] - 93s 4ms/step - loss: 0.0460 - acc: 0.9809 - val_loss: 0.1542 - val_acc: 0.9598\n",
      "Epoch 50/50\n",
      "24392/24392 [==============================] - 93s 4ms/step - loss: 0.0442 - acc: 0.9813 - val_loss: 0.1461 - val_acc: 0.9606\n"
     ]
    }
   ],
   "source": [
    "# training model\n",
    "history = model.fit(X_train, Y_train, batch_size=batch_size, epochs=num_epochs, verbose=1, validation_data=(X_val, Y_val))"
   ]
  },
  {
   "cell_type": "code",
   "execution_count": 0,
   "metadata": {
    "colab": {
     "base_uri": "https://localhost:8080/",
     "height": 34
    },
    "colab_type": "code",
    "executionInfo": {
     "elapsed": 4711119,
     "status": "ok",
     "timestamp": 1569053038754,
     "user": {
      "displayName": "ANISA MILADYA HAKIM -",
      "photoUrl": "https://lh3.googleusercontent.com/a-/AAuE7mAxiDFPChsKSUff6d_ZwtaHRXcazNCoPnwSRHwN=s64",
      "userId": "03112180736924655103"
     },
     "user_tz": -420
    },
    "id": "kZHN_CmwIblB",
    "outputId": "63afab87-0bbf-44e6-acf8-4b526494b62f"
   },
   "outputs": [
    {
     "name": "stdout",
     "output_type": "stream",
     "text": [
      "Train Accuracy: 98.75 %\n"
     ]
    }
   ],
   "source": [
    "acc_train = evaluation(model, X_train, label_train)\n",
    "print(\"Train Accuracy: %.2f\" % (acc_train*100), \"%\")"
   ]
  },
  {
   "cell_type": "code",
   "execution_count": 0,
   "metadata": {
    "colab": {
     "base_uri": "https://localhost:8080/",
     "height": 34
    },
    "colab_type": "code",
    "executionInfo": {
     "elapsed": 4721728,
     "status": "ok",
     "timestamp": 1569053049875,
     "user": {
      "displayName": "ANISA MILADYA HAKIM -",
      "photoUrl": "https://lh3.googleusercontent.com/a-/AAuE7mAxiDFPChsKSUff6d_ZwtaHRXcazNCoPnwSRHwN=s64",
      "userId": "03112180736924655103"
     },
     "user_tz": -420
    },
    "id": "U_JNKK2WIblG",
    "outputId": "cdaf0a0a-e4da-41bc-f9f4-c453bde92146"
   },
   "outputs": [
    {
     "name": "stdout",
     "output_type": "stream",
     "text": [
      "Test Accuracy: 96.28 %\n"
     ]
    }
   ],
   "source": [
    "acc_test = evaluation(model, X_test, label_test)\n",
    "print(\"Test Accuracy: %.2f\" % (acc_test*100), \"%\")"
   ]
  },
  {
   "cell_type": "code",
   "execution_count": 0,
   "metadata": {
    "colab": {},
    "colab_type": "code",
    "id": "uvVqoV5tIblL"
   },
   "outputs": [],
   "source": [
    "model.save('model/pseudo_validation.h5')"
   ]
  },
  {
   "cell_type": "code",
   "execution_count": 0,
   "metadata": {
    "colab": {},
    "colab_type": "code",
    "id": "6glsHVJmIblP"
   },
   "outputs": [],
   "source": []
  }
 ],
 "metadata": {
  "accelerator": "GPU",
  "colab": {
   "collapsed_sections": [],
   "name": "labeling_pseudo.ipynb",
   "provenance": [],
   "toc_visible": true
  },
  "kernelspec": {
   "display_name": "Python 3",
   "language": "python",
   "name": "python3"
  },
  "language_info": {
   "codemirror_mode": {
    "name": "ipython",
    "version": 3
   },
   "file_extension": ".py",
   "mimetype": "text/x-python",
   "name": "python",
   "nbconvert_exporter": "python",
   "pygments_lexer": "ipython3",
   "version": "3.6.5"
  }
 },
 "nbformat": 4,
 "nbformat_minor": 1
}
